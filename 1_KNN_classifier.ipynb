{
  "nbformat": 4,
  "nbformat_minor": 0,
  "metadata": {
    "colab": {
      "name": "1_KNN_classifier.ipynb",
      "provenance": [],
      "authorship_tag": "ABX9TyPDhqFN+UflnDEjeMlURaqt",
      "include_colab_link": true
    },
    "kernelspec": {
      "name": "python3",
      "display_name": "Python 3"
    }
  },
  "cells": [
    {
      "cell_type": "markdown",
      "metadata": {
        "id": "view-in-github",
        "colab_type": "text"
      },
      "source": [
        "<a href=\"https://colab.research.google.com/github/andrewng88/ml_from_scratch/blob/master/1_KNN_classifier.ipynb\" target=\"_parent\"><img src=\"https://colab.research.google.com/assets/colab-badge.svg\" alt=\"Open In Colab\"/></a>"
      ]
    },
    {
      "cell_type": "code",
      "metadata": {
        "id": "O4tMw_QlZZkp",
        "colab_type": "code",
        "colab": {}
      },
      "source": [
        "import numpy as np\n",
        "from sklearn.model_selection import train_test_split\n",
        "from sklearn import datasets\n",
        "import matplotlib.pyplot as plt\n",
        "from matplotlib.colors import ListedColormap\n",
        "from collections import Counter\n",
        "cmap = ListedColormap(['#FF0000', '#00FF00', '#0000FF'])\n",
        "\n",
        "def eucliedean_distance(x1,x2):\n",
        "  '''calculate distance'''\n",
        "  return  np.sqrt(np.sum(x1 -x2)**2)\n",
        "\n",
        "class KNN:\n",
        "\n",
        "    def __init__(self, k=3):\n",
        "      self.k=k\n",
        "\n",
        "    def fit(self, X, y):\n",
        "      self.X_train = X\n",
        "      self.y_train = y\n",
        "\n",
        "    def predict(self, X):\n",
        "      predicted_labels = [self._predict(x) for x in X]\n",
        "      return np.array(predicted_labels)\n",
        "\n",
        "    def _predict(self,x):\n",
        "      # compute distances for each of the points\n",
        "      distances = [eucliedean_distance(x,x_train) for x_train in self.X_train]\n",
        "      # get k nearest samples, labels\n",
        "      k_indices = np.argsort(distances)[:self.k]\n",
        "      # consolidate the y labels based on k_indices\n",
        "      k_nearest_labels = [self.y_train[i] for i in k_indices]\n",
        "      # majority vote, return the most commmon class label\n",
        "      most_common = Counter(k_nearest_labels).most_common(1)\n",
        "      return most_common[0][0]"
      ],
      "execution_count": 1,
      "outputs": []
    },
    {
      "cell_type": "code",
      "metadata": {
        "id": "DIM3ZaBhbNRg",
        "colab_type": "code",
        "colab": {
          "base_uri": "https://localhost:8080/",
          "height": 268
        },
        "outputId": "d464b68b-85f9-494f-bbe2-42cb12b8b9a6"
      },
      "source": [
        "# create dataset for linear regression\n",
        "iris = datasets.load_iris()\n",
        "X, y = iris.data , iris.target \n",
        "\n",
        "# show iris data in 2d\n",
        "plt.figure()\n",
        "plt.scatter(X[:, 0], X[:, 1], c=y, cmap=cmap, edgecolor='k', s=20)\n",
        "plt.show()\n",
        "\n",
        "# train-test-split\n",
        "X_train, X_test, y_train, y_test = train_test_split(X, y, test_size=0.2, random_state=1234,shuffle=True)"
      ],
      "execution_count": 2,
      "outputs": [
        {
          "output_type": "display_data",
          "data": {
            "image/png": "[encoded data removed]",
            "text/plain": [
              "<Figure size 432x288 with 1 Axes>"
            ]
          },
          "metadata": {
            "tags": [],
            "needs_background": "light"
          }
        }
      ]
    },
    {
      "cell_type": "code",
      "metadata": {
        "id": "zWTDEbRVfkVC",
        "colab_type": "code",
        "colab": {
          "base_uri": "https://localhost:8080/",
          "height": 34
        },
        "outputId": "5e721479-2887-4e13-9e3e-d22a01624e0e"
      },
      "source": [
        "def accuracy(y_true,y_pred):\n",
        "  '''Accuracy metric : how many are predicted correctly '''\n",
        "  return np.sum(y_true == y_pred) / len(y_true)\n",
        "\n",
        "clf = KNN(k=3)\n",
        "clf.fit(X_train,y_train)\n",
        "\n",
        "# predict the dataset\n",
        "predictions = clf.predict(X_test)\n",
        "\n",
        "print(\"KNN Classifier Accuracy:\", accuracy(y_test, predictions))"
      ],
      "execution_count": 3,
      "outputs": [
        {
          "output_type": "stream",
          "text": [
            "KNN Classifier Accuracy: 0.9333333333333333\n"
          ],
          "name": "stdout"
        }
      ]
    }
  ]
}