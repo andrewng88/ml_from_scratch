{
  "nbformat": 4,
  "nbformat_minor": 0,
  "metadata": {
    "colab": {
      "name": "4_Naive_Bayes.ipynb",
      "provenance": [],
      "authorship_tag": "ABX9TyPkZFRpGyK7BRTArdfKKPKr",
      "include_colab_link": true
    },
    "kernelspec": {
      "name": "python3",
      "display_name": "Python 3"
    }
  },
  "cells": [
    {
      "cell_type": "markdown",
      "metadata": {
        "id": "view-in-github",
        "colab_type": "text"
      },
      "source": [
        "<a href=\"https://colab.research.google.com/github/andrewng88/ml_from_scratch/blob/master/4_Naive_Bayes.ipynb\" target=\"_parent\"><img src=\"https://colab.research.google.com/assets/colab-badge.svg\" alt=\"Open In Colab\"/></a>"
      ]
    },
    {
      "cell_type": "markdown",
      "metadata": {
        "id": "jHy_X3U-tPQy",
        "colab_type": "text"
      },
      "source": [
        "# https://www.geeksforgeeks.org/naive-bayes-classifiers/# "
      ]
    },
    {
      "cell_type": "code",
      "metadata": {
        "id": "vE_DgMqkscvn",
        "colab_type": "code",
        "colab": {}
      },
      "source": [
        "import numpy as np\n",
        "\n",
        "class NaiveBayes:\n",
        "\n",
        "    def fit(self, X, y):\n",
        "        n_samples, n_features = X.shape\n",
        "        self._classes = np.unique(y)\n",
        "        n_classes = len(self._classes)\n",
        "\n",
        "        # init mean, var, and prior for each class\n",
        "        self._mean = np.zeros((n_classes, n_features), dtype=np.float64) # 2 classes x 10 features\n",
        "        self._var = np.zeros((n_classes, n_features), dtype=np.float64) # 2 x 10\n",
        "        self._priors =  np.zeros(n_classes, dtype=np.float64) # 2 x 1\n",
        " \n",
        "        # calculate mean, var, and prior for each class along the columns(axis=0)\n",
        "        for idx, c in enumerate(self._classes):\n",
        "            X_c = X[y==c]\n",
        "            self._mean[idx, :] = X_c.mean(axis=0) #10 x 1\n",
        "            self._var[idx, :] = X_c.var(axis=0) #10 x 1\n",
        "            self._priors[idx] = X_c.shape[0] / float(n_samples) # overall probablity of classes \n",
        "\n",
        "    # predict individual row\n",
        "    def _predict(self, x):\n",
        "        posteriors = []\n",
        "\n",
        "        # calculate posterior probability for each class of each row\n",
        "        for idx, c in enumerate(self._classes):\n",
        "            prior = np.log(self._priors[idx]) \n",
        "\n",
        "            # individual probability of each feature\n",
        "            # we log it because of underflow/float issue\n",
        "            posterior = np.sum(np.log(self._pdf(idx, x)))\n",
        "            # instead of multiply we add since it's log-ged\n",
        "            posterior = prior + posterior\n",
        "            # we append both class 0 and class1\n",
        "            posteriors.append(posterior)\n",
        "            \n",
        "        # return class with highest posterior probability\n",
        "        return self._classes[np.argmax(posteriors)]\n",
        "    \n",
        "    # https://www.youtube.com/watch?v=9CgOthUUdw4\n",
        "    def _pdf(self, class_idx, x):\n",
        "        mean = self._mean[class_idx]\n",
        "        var = self._var[class_idx]\n",
        "        numerator = np.exp(- (x-mean)**2 / (2 * var))\n",
        "        denominator = np.sqrt(2 * np.pi * var)\n",
        "        return numerator / denominator\n",
        "    \n",
        "        # predict all\n",
        "    def predict(self, X):\n",
        "        y_pred = [self._predict(x) for x in X]\n",
        "        return np.array(y_pred)"
      ],
      "execution_count": 1,
      "outputs": []
    },
    {
      "cell_type": "code",
      "metadata": {
        "id": "K8glc1Gc9hGW",
        "colab_type": "code",
        "colab": {
          "base_uri": "https://localhost:8080/",
          "height": 34
        },
        "outputId": "068caff7-bb34-43a8-9d5d-0c73e2f711cc"
      },
      "source": [
        "from sklearn.model_selection import train_test_split\n",
        "from sklearn import datasets\n",
        "import matplotlib.pyplot as plt\n",
        "\n",
        "def accuracy(y_true, y_pred):\n",
        "    accuracy = np.sum(y_true == y_pred) / len(y_true)\n",
        "    return accuracy\n",
        "\n",
        "X, y = datasets.make_classification(n_samples=1000, n_features=10, n_classes=2, random_state=123)\n",
        "X_train, X_test, y_train, y_test = train_test_split(X, y, test_size=0.2, random_state=123)\n",
        "\n",
        "nb = NaiveBayes()\n",
        "nb.fit(X_train, y_train)\n",
        "predictions = nb.predict(X_test)\n",
        "\n",
        "print(\"Naive Bayes classification accuracy\", accuracy(y_test, predictions))"
      ],
      "execution_count": 2,
      "outputs": [
        {
          "output_type": "stream",
          "text": [
            "Naive Bayes classification accuracy 0.965\n"
          ],
          "name": "stdout"
        }
      ]
    }
  ]
}