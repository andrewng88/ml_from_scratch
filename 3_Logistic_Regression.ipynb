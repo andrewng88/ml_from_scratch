{
  "nbformat": 4,
  "nbformat_minor": 0,
  "metadata": {
    "colab": {
      "name": "3_Logistic_Regression.ipynb",
      "provenance": [],
      "collapsed_sections": [],
      "authorship_tag": "ABX9TyN3S9LdKwz4BIQN1r77efig",
      "include_colab_link": true
    },
    "kernelspec": {
      "name": "python3",
      "display_name": "Python 3"
    }
  },
  "cells": [
    {
      "cell_type": "markdown",
      "metadata": {
        "id": "view-in-github",
        "colab_type": "text"
      },
      "source": [
        "<a href=\"https://colab.research.google.com/github/andrewng88/ml_from_scratch/blob/master/3_Logistic_Regression.ipynb\" target=\"_parent\"><img src=\"https://colab.research.google.com/assets/colab-badge.svg\" alt=\"Open In Colab\"/></a>"
      ]
    },
    {
      "cell_type": "markdown",
      "metadata": {
        "id": "bXlwJ8c6Auik",
        "colab_type": "text"
      },
      "source": [
        "https://ml-cheatsheet.readthedocs.io/en/latest/logistic_regression.html# \n"
      ]
    },
    {
      "cell_type": "code",
      "metadata": {
        "id": "fu4JipgfuVTK",
        "colab_type": "code",
        "colab": {}
      },
      "source": [
        "import numpy as np\n",
        "from sklearn.model_selection import train_test_split\n",
        "from sklearn import datasets\n",
        "import matplotlib.pyplot as plt\n",
        "\n",
        "class LogisticRegression:\n",
        "\n",
        "    def __init__(self, learning_rate=1e-3, n_iters=1000):\n",
        "        self.lr = learning_rate\n",
        "        self.n_iters = n_iters\n",
        "        self.weights = None\n",
        "        self.bias = None\n",
        "\n",
        "    def fit(self, X, y):\n",
        "        n_samples, n_features = X.shape\n",
        "\n",
        "        # init parameters\n",
        "        self.weights = np.zeros(n_features)\n",
        "        self.bias = 0\n",
        "\n",
        "        # gradient descent\n",
        "        for _ in range(self.n_iters):\n",
        "            # X from input\n",
        "            # need to use self.variables at the same function\n",
        "            linear_model = np.dot(X, self.weights) + self.bias\n",
        "            \n",
        "            # function inside class requires self.function\n",
        "            y_predicted = self._sigmoid(linear_model)\n",
        "            \n",
        "            # compute gradients\n",
        "            dw = (1 / n_samples) * np.dot(X.T, (y_predicted - y))\n",
        "            db = (1 / n_samples) * np.sum(y_predicted - y)\n",
        "\n",
        "            # update parameters\n",
        "            self.weights -= self.lr * dw\n",
        "            self.bias -= self.lr * db\n",
        "\n",
        "    def predict(self, X):\n",
        "        linear_model = np.dot(X, self.weights) + self.bias\n",
        "        y_predicted = self._sigmoid(linear_model)\n",
        "        # need classify based on probability output after signmoid\n",
        "        y_predicted_class =  [1 if i >0.5 else 0 for i in y_predicted]\n",
        "        return np.array(y_predicted_class), y_predicted\n",
        "    \n",
        "    def _sigmoid(self,x):\n",
        "      '''apply sigmoid to otain values between 0 and 1'''\n",
        "      return 1/ ( 1 + np.exp(-x))"
      ],
      "execution_count": null,
      "outputs": []
    },
    {
      "cell_type": "code",
      "metadata": {
        "id": "GR8MbvoOzkBi",
        "colab_type": "code",
        "colab": {
          "base_uri": "https://localhost:8080/",
          "height": 34
        },
        "outputId": "44220938-45d0-4e52-a38b-ac4fe725a9ed"
      },
      "source": [
        "# if the above class in another file called LinearRegression.py\n",
        "# import LinearRegression\n",
        "# from regression import LinearRegression\n",
        "\n",
        "def accuracy(y_true,y_pred):\n",
        "  '''Accuracy metric : how many are predicted correctly '''\n",
        "  return np.sum(y_true == y_pred) / len(y_true)\n",
        "\n",
        "# create dataset for linear regression\n",
        "bc = datasets.load_breast_cancer()\n",
        "X, y = bc.data , bc.target \n",
        "\n",
        "# train-test-split\n",
        "X_train, X_test, y_train, y_test = train_test_split(X, y, test_size=0.2, random_state=1234)\n",
        "\n",
        "# from the LogisticRegression Class above\n",
        "classifier = LogisticRegression(learning_rate=1e-4, n_iters=1000)\n",
        "\n",
        "# train the dataset\n",
        "classifier.fit(X_train, y_train)\n",
        "\n",
        "# predict the dataset\n",
        "predictions, predictions_proba = classifier.predict(X_test)\n",
        "\n",
        "print(\"Logistic Regression Accuracy:\", accuracy(y_test, predictions))"
      ],
      "execution_count": null,
      "outputs": [
        {
          "output_type": "stream",
          "text": [
            "Logistic Regression Accuracy: 0.9298245614035088\n"
          ],
          "name": "stdout"
        }
      ]
    }
  ]
}