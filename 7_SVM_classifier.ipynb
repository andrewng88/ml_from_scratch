{
  "nbformat": 4,
  "nbformat_minor": 0,
  "metadata": {
    "colab": {
      "name": "3_SVM_classifier.ipynb",
      "provenance": [],
      "authorship_tag": "ABX9TyPEBtmffQ8PTjiRh3j3GWgn",
      "include_colab_link": true
    },
    "kernelspec": {
      "name": "python3",
      "display_name": "Python 3"
    }
  },
  "cells": [
    {
      "cell_type": "markdown",
      "metadata": {
        "id": "view-in-github",
        "colab_type": "text"
      },
      "source": [
        "<a href=\"https://colab.research.google.com/github/andrewng88/ml_from_scratch/blob/master/3_SVM_classifier.ipynb\" target=\"_parent\"><img src=\"https://colab.research.google.com/assets/colab-badge.svg\" alt=\"Open In Colab\"/></a>"
      ]
    },
    {
      "cell_type": "markdown",
      "metadata": {
        "id": "s2fgP5n8to5Z",
        "colab_type": "text"
      },
      "source": [
        "# https://www.youtube.com/watch?v=efR1C6CvhmE ( youtube )\n",
        "# http://web.mit.edu/6.034/wwwbob/svm-notes-long-08.pdf ( slides )\n",
        "# https://www.svm-tutorial.com/2014/11/svm-understanding-math-part-1/ \n",
        "( detailed maths )"
      ]
    },
    {
      "cell_type": "code",
      "metadata": {
        "id": "mqgRLRAttrG5",
        "colab_type": "code",
        "colab": {}
      },
      "source": [
        "import numpy as np\n",
        "import matplotlib.pyplot as plt\n",
        "from sklearn import datasets\n",
        "\n",
        "class SVM:\n",
        "\n",
        "  def __init__(self, learning_rate=1e-3,lambda_param = 0.01, n_iters = 1000):\n",
        "    self.lr = learning_rate\n",
        "    self.lambda_param = lambda_param\n",
        "    self.n_iters = n_iters\n",
        "    self.w = None\n",
        "    self.b = None\n",
        "\n",
        "  def fit(self,X,y):\n",
        "    n_samples, n_features = X.shape\n",
        "    self.w = np.zeros(n_features)\n",
        "    self.b = 0\n",
        "\n",
        "    # converts less than 0 to -1 , otherwise 1\n",
        "    y_ = np.where(y<=0, -1 , 1)\n",
        "    \n",
        "    # iterate the dataset over n_iters\n",
        "    for _ in range(self.n_iters):\n",
        "      for idx, x_i in enumerate(X):\n",
        "        \n",
        "        # if condition is True , >=1\n",
        "        condition = y_[idx] * ( np.dot(x_i,self.w) - self.b ) >=1  \n",
        "        if condition:\n",
        "          dJ = 2*self.lambda_param * self.w\n",
        "\n",
        "        else:\n",
        "          dJ = 2*self.lambda_param * self.w - np.dot(y_[idx],x_i)\n",
        "          db = y_[idx]\n",
        "         \n",
        "        self.w -= self.lr * dJ\n",
        "        self.b -= self.lr * db\n",
        "  \n",
        "  def predict(self,X):\n",
        "    linear_output = np.dot(X,self.w) - self.b \n",
        "    # https://numpy.org/doc/stable/reference/generated/numpy.sign.html\n",
        "    # similar to ReLU\n",
        "    return np.sign(linear_output)"
      ],
      "execution_count": 1,
      "outputs": []
    },
    {
      "cell_type": "code",
      "metadata": {
        "id": "KtyROWLs7MTy",
        "colab_type": "code",
        "colab": {
          "base_uri": "https://localhost:8080/",
          "height": 282
        },
        "outputId": "8c98859f-02e9-4c0e-beb1-a8c3c31679c1"
      },
      "source": [
        "X, y =  datasets.make_blobs(n_samples=50, n_features=2, centers=2, cluster_std=1.05, random_state=40)\n",
        "y = np.where(y == 0, -1, 1)\n",
        "\n",
        "clf = SVM()\n",
        "clf.fit(X, y)\n",
        "#predictions = clf.predict(X)\n",
        " \n",
        "print(clf.w, clf.b)\n",
        "\n",
        "def visualize_svm():\n",
        "     def get_hyperplane_value(x, w, b, offset):\n",
        "          return (-w[0] * x + b + offset) / w[1]\n",
        "\n",
        "     fig = plt.figure()\n",
        "     ax = fig.add_subplot(1,1,1)\n",
        "     plt.scatter(X[:,0], X[:,1], marker='o',c=y)\n",
        "\n",
        "     x0_1 = np.amin(X[:,0])\n",
        "     x0_2 = np.amax(X[:,0])\n",
        "\n",
        "     x1_1 = get_hyperplane_value(x0_1, clf.w, clf.b, 0)\n",
        "     x1_2 = get_hyperplane_value(x0_2, clf.w, clf.b, 0)\n",
        "\n",
        "     x1_1_m = get_hyperplane_value(x0_1, clf.w, clf.b, -1)\n",
        "     x1_2_m = get_hyperplane_value(x0_2, clf.w, clf.b, -1)\n",
        "\n",
        "     x1_1_p = get_hyperplane_value(x0_1, clf.w, clf.b, 1)\n",
        "     x1_2_p = get_hyperplane_value(x0_2, clf.w, clf.b, 1)\n",
        "\n",
        "     ax.plot([x0_1, x0_2],[x1_1, x1_2], 'y--')\n",
        "     ax.plot([x0_1, x0_2],[x1_1_m, x1_2_m], 'k')\n",
        "     ax.plot([x0_1, x0_2],[x1_1_p, x1_2_p], 'k')\n",
        "\n",
        "     x1_min = np.amin(X[:,1])\n",
        "     x1_max = np.amax(X[:,1])\n",
        "     ax.set_ylim([x1_min-3,x1_max+3])\n",
        "\n",
        "     plt.show()\n",
        "\n",
        "visualize_svm()"
      ],
      "execution_count": 2,
      "outputs": [
        {
          "output_type": "stream",
          "text": [
            "[0.32737806 0.36840921] -1.7339999999999198\n"
          ],
          "name": "stdout"
        },
        {
          "output_type": "display_data",
          "data": {
            "image/png": "[encoded data removed]",
            "text/plain": [
              "<Figure size 432x288 with 1 Axes>"
            ]
          },
          "metadata": {
            "tags": [],
            "needs_background": "light"
          }
        }
      ]
    },
    {
      "cell_type": "code",
      "metadata": {
        "id": "KauDQMdP7x9n",
        "colab_type": "code",
        "colab": {}
      },
      "source": [
        ""
      ],
      "execution_count": 2,
      "outputs": []
    }
  ]
}
